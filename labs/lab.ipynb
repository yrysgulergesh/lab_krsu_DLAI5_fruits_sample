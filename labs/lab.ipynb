{
 "cells": [
  {
   "attachments": {},
   "cell_type": "markdown",
   "metadata": {},
   "source": []
  },
  {
   "cell_type": "code",
   "execution_count": 2,
   "metadata": {},
   "outputs": [],
   "source": [
    "import pandas as pd\n",
    "import tensorflow as tf\n",
    "from tensorflow.keras.models import Sequential\n",
    "from tensorflow.keras.layers import Dense"
   ]
  },
  {
   "cell_type": "code",
   "execution_count": 3,
   "metadata": {},
   "outputs": [],
   "source": [
    "import pandas as pd\n",
    "import numpy as np\n",
    "from sklearn.model_selection import train_test_split\n",
    "from sklearn.preprocessing import LabelEncoder\n",
    "from keras.models import Sequential\n",
    "from keras.layers import Dense\n",
    "\n"
   ]
  },
  {
   "cell_type": "code",
   "execution_count": 18,
   "metadata": {},
   "outputs": [
    {
     "data": {
      "text/html": [
       "<div>\n",
       "<style scoped>\n",
       "    .dataframe tbody tr th:only-of-type {\n",
       "        vertical-align: middle;\n",
       "    }\n",
       "\n",
       "    .dataframe tbody tr th {\n",
       "        vertical-align: top;\n",
       "    }\n",
       "\n",
       "    .dataframe thead th {\n",
       "        text-align: right;\n",
       "    }\n",
       "</style>\n",
       "<table border=\"1\" class=\"dataframe\">\n",
       "  <thead>\n",
       "    <tr style=\"text-align: right;\">\n",
       "      <th></th>\n",
       "      <th>ID</th>\n",
       "      <th>Code</th>\n",
       "    </tr>\n",
       "  </thead>\n",
       "  <tbody>\n",
       "    <tr>\n",
       "      <th>0</th>\n",
       "      <td>DLAI5_Validation_fruits (1).jpg</td>\n",
       "      <td>6</td>\n",
       "    </tr>\n",
       "    <tr>\n",
       "      <th>1</th>\n",
       "      <td>DLAI5_Validation_fruits (2).jpg</td>\n",
       "      <td>3</td>\n",
       "    </tr>\n",
       "    <tr>\n",
       "      <th>2</th>\n",
       "      <td>DLAI5_Validation_fruits (3).jpg</td>\n",
       "      <td>4</td>\n",
       "    </tr>\n",
       "    <tr>\n",
       "      <th>3</th>\n",
       "      <td>DLAI5_Validation_fruits (4).jpg</td>\n",
       "      <td>2</td>\n",
       "    </tr>\n",
       "    <tr>\n",
       "      <th>4</th>\n",
       "      <td>DLAI5_Validation_fruits (5).jpg</td>\n",
       "      <td>6</td>\n",
       "    </tr>\n",
       "    <tr>\n",
       "      <th>...</th>\n",
       "      <td>...</td>\n",
       "      <td>...</td>\n",
       "    </tr>\n",
       "    <tr>\n",
       "      <th>133</th>\n",
       "      <td>DLAI5_Validation_fruits (134).jpg</td>\n",
       "      <td>6</td>\n",
       "    </tr>\n",
       "    <tr>\n",
       "      <th>134</th>\n",
       "      <td>DLAI5_Validation_fruits (135).jpg</td>\n",
       "      <td>6</td>\n",
       "    </tr>\n",
       "    <tr>\n",
       "      <th>135</th>\n",
       "      <td>DLAI5_Validation_fruits (136).jpg</td>\n",
       "      <td>2</td>\n",
       "    </tr>\n",
       "    <tr>\n",
       "      <th>136</th>\n",
       "      <td>DLAI5_Validation_fruits (137).jpg</td>\n",
       "      <td>4</td>\n",
       "    </tr>\n",
       "    <tr>\n",
       "      <th>137</th>\n",
       "      <td>DLAI5_Validation_fruits (138).jpg</td>\n",
       "      <td>3</td>\n",
       "    </tr>\n",
       "  </tbody>\n",
       "</table>\n",
       "<p>138 rows × 2 columns</p>\n",
       "</div>"
      ],
      "text/plain": [
       "                                    ID  Code\n",
       "0      DLAI5_Validation_fruits (1).jpg     6\n",
       "1      DLAI5_Validation_fruits (2).jpg     3\n",
       "2      DLAI5_Validation_fruits (3).jpg     4\n",
       "3      DLAI5_Validation_fruits (4).jpg     2\n",
       "4      DLAI5_Validation_fruits (5).jpg     6\n",
       "..                                 ...   ...\n",
       "133  DLAI5_Validation_fruits (134).jpg     6\n",
       "134  DLAI5_Validation_fruits (135).jpg     6\n",
       "135  DLAI5_Validation_fruits (136).jpg     2\n",
       "136  DLAI5_Validation_fruits (137).jpg     4\n",
       "137  DLAI5_Validation_fruits (138).jpg     3\n",
       "\n",
       "[138 rows x 2 columns]"
      ]
     },
     "execution_count": 18,
     "metadata": {},
     "output_type": "execute_result"
    }
   ],
   "source": [
    "data = pd.read_csv(\"DLAI5_fruits_sample.csv\")\n",
    "data"
   ]
  },
  {
   "cell_type": "code",
   "execution_count": 17,
   "metadata": {},
   "outputs": [
    {
     "name": "stdout",
     "output_type": "stream",
     "text": [
      "Index(['ID', 'Code'], dtype='object')\n"
     ]
    }
   ],
   "source": [
    "data_columns = pd.read_csv('DLAI5_fruits_sample.csv').columns\n",
    "print(data_columns)"
   ]
  },
  {
   "cell_type": "code",
   "execution_count": null,
   "metadata": {},
   "outputs": [],
   "source": []
  },
  {
   "cell_type": "code",
   "execution_count": 6,
   "metadata": {},
   "outputs": [
    {
     "data": {
      "text/html": [
       "<div>\n",
       "<style scoped>\n",
       "    .dataframe tbody tr th:only-of-type {\n",
       "        vertical-align: middle;\n",
       "    }\n",
       "\n",
       "    .dataframe tbody tr th {\n",
       "        vertical-align: top;\n",
       "    }\n",
       "\n",
       "    .dataframe thead th {\n",
       "        text-align: right;\n",
       "    }\n",
       "</style>\n",
       "<table border=\"1\" class=\"dataframe\">\n",
       "  <thead>\n",
       "    <tr style=\"text-align: right;\">\n",
       "      <th></th>\n",
       "      <th>ID</th>\n",
       "      <th>Code</th>\n",
       "    </tr>\n",
       "  </thead>\n",
       "  <tbody>\n",
       "    <tr>\n",
       "      <th>0</th>\n",
       "      <td>DLAI5_Validation_fruits (1).jpg</td>\n",
       "      <td>6</td>\n",
       "    </tr>\n",
       "    <tr>\n",
       "      <th>1</th>\n",
       "      <td>DLAI5_Validation_fruits (2).jpg</td>\n",
       "      <td>3</td>\n",
       "    </tr>\n",
       "    <tr>\n",
       "      <th>2</th>\n",
       "      <td>DLAI5_Validation_fruits (3).jpg</td>\n",
       "      <td>4</td>\n",
       "    </tr>\n",
       "    <tr>\n",
       "      <th>3</th>\n",
       "      <td>DLAI5_Validation_fruits (4).jpg</td>\n",
       "      <td>2</td>\n",
       "    </tr>\n",
       "    <tr>\n",
       "      <th>4</th>\n",
       "      <td>DLAI5_Validation_fruits (5).jpg</td>\n",
       "      <td>6</td>\n",
       "    </tr>\n",
       "    <tr>\n",
       "      <th>...</th>\n",
       "      <td>...</td>\n",
       "      <td>...</td>\n",
       "    </tr>\n",
       "    <tr>\n",
       "      <th>133</th>\n",
       "      <td>DLAI5_Validation_fruits (134).jpg</td>\n",
       "      <td>6</td>\n",
       "    </tr>\n",
       "    <tr>\n",
       "      <th>134</th>\n",
       "      <td>DLAI5_Validation_fruits (135).jpg</td>\n",
       "      <td>6</td>\n",
       "    </tr>\n",
       "    <tr>\n",
       "      <th>135</th>\n",
       "      <td>DLAI5_Validation_fruits (136).jpg</td>\n",
       "      <td>2</td>\n",
       "    </tr>\n",
       "    <tr>\n",
       "      <th>136</th>\n",
       "      <td>DLAI5_Validation_fruits (137).jpg</td>\n",
       "      <td>4</td>\n",
       "    </tr>\n",
       "    <tr>\n",
       "      <th>137</th>\n",
       "      <td>DLAI5_Validation_fruits (138).jpg</td>\n",
       "      <td>3</td>\n",
       "    </tr>\n",
       "  </tbody>\n",
       "</table>\n",
       "<p>138 rows × 2 columns</p>\n",
       "</div>"
      ],
      "text/plain": [
       "                                    ID  Code\n",
       "0      DLAI5_Validation_fruits (1).jpg     6\n",
       "1      DLAI5_Validation_fruits (2).jpg     3\n",
       "2      DLAI5_Validation_fruits (3).jpg     4\n",
       "3      DLAI5_Validation_fruits (4).jpg     2\n",
       "4      DLAI5_Validation_fruits (5).jpg     6\n",
       "..                                 ...   ...\n",
       "133  DLAI5_Validation_fruits (134).jpg     6\n",
       "134  DLAI5_Validation_fruits (135).jpg     6\n",
       "135  DLAI5_Validation_fruits (136).jpg     2\n",
       "136  DLAI5_Validation_fruits (137).jpg     4\n",
       "137  DLAI5_Validation_fruits (138).jpg     3\n",
       "\n",
       "[138 rows x 2 columns]"
      ]
     },
     "execution_count": 6,
     "metadata": {},
     "output_type": "execute_result"
    }
   ],
   "source": [
    "data = pd.read_csv(\"DLAI5_fruits_sample.csv\")\n",
    "data"
   ]
  },
  {
   "cell_type": "code",
   "execution_count": 7,
   "metadata": {},
   "outputs": [
    {
     "name": "stdout",
     "output_type": "stream",
     "text": [
      "Epoch 1/10\n"
     ]
    },
    {
     "name": "stderr",
     "output_type": "stream",
     "text": [
      "2023-06-26 14:27:03.093666: I tensorflow/core/platform/cpu_feature_guard.cc:193] This TensorFlow binary is optimized with oneAPI Deep Neural Network Library (oneDNN) to use the following CPU instructions in performance-critical operations:  AVX2 FMA\n",
      "To enable them in other operations, rebuild TensorFlow with the appropriate compiler flags.\n"
     ]
    },
    {
     "name": "stdout",
     "output_type": "stream",
     "text": [
      "4/4 [==============================] - 1s 65ms/step - loss: 4.9280 - accuracy: 0.0091 - val_loss: 4.9301 - val_accuracy: 0.0000e+00\n",
      "Epoch 2/10\n",
      "4/4 [==============================] - 0s 10ms/step - loss: 4.9265 - accuracy: 0.0000e+00 - val_loss: 4.9335 - val_accuracy: 0.0000e+00\n",
      "Epoch 3/10\n",
      "4/4 [==============================] - 0s 11ms/step - loss: 4.9256 - accuracy: 0.0000e+00 - val_loss: 4.9370 - val_accuracy: 0.0000e+00\n",
      "Epoch 4/10\n",
      "4/4 [==============================] - 0s 10ms/step - loss: 4.9247 - accuracy: 0.0000e+00 - val_loss: 4.9404 - val_accuracy: 0.0000e+00\n",
      "Epoch 5/10\n",
      "4/4 [==============================] - 0s 10ms/step - loss: 4.9238 - accuracy: 0.0000e+00 - val_loss: 4.9439 - val_accuracy: 0.0000e+00\n",
      "Epoch 6/10\n",
      "4/4 [==============================] - 0s 11ms/step - loss: 4.9229 - accuracy: 0.0091 - val_loss: 4.9474 - val_accuracy: 0.0000e+00\n",
      "Epoch 7/10\n",
      "4/4 [==============================] - 0s 10ms/step - loss: 4.9220 - accuracy: 0.0091 - val_loss: 4.9509 - val_accuracy: 0.0000e+00\n",
      "Epoch 8/10\n",
      "4/4 [==============================] - 0s 10ms/step - loss: 4.9212 - accuracy: 0.0000e+00 - val_loss: 4.9544 - val_accuracy: 0.0000e+00\n",
      "Epoch 9/10\n",
      "4/4 [==============================] - 0s 10ms/step - loss: 4.9203 - accuracy: 0.0091 - val_loss: 4.9579 - val_accuracy: 0.0000e+00\n",
      "Epoch 10/10\n",
      "4/4 [==============================] - 0s 9ms/step - loss: 4.9194 - accuracy: 0.0091 - val_loss: 4.9614 - val_accuracy: 0.0000e+00\n",
      "1/1 [==============================] - 0s 23ms/step - loss: 4.9614 - accuracy: 0.0000e+00\n",
      "Accuracy: 0.0\n"
     ]
    }
   ],
   "source": [
    "import pandas as pd\n",
    "import numpy as np\n",
    "from sklearn.model_selection import train_test_split\n",
    "from keras.models import Sequential\n",
    "from keras.layers import Dense\n",
    "\n",
    "# Загрузка данных\n",
    "data = pd.read_csv('DLAI5_fruits_sample.csv')\n",
    "\n",
    "# Разделение данных на признаки (X) и метки (y)\n",
    "X = data.drop(['ID', 'Code'], axis=1).values\n",
    "y = data['ID'].values\n",
    "\n",
    "# Преобразование категориальных меток в числовые\n",
    "unique_classes = np.unique(y)\n",
    "class_mapping = {class_name: i for i, class_name in enumerate(unique_classes)}\n",
    "y = np.array([class_mapping[class_name] for class_name in y])\n",
    "\n",
    "# Разделение данных на обучающую и тестовую выборки\n",
    "X_train, X_test, y_train, y_test = train_test_split(X, y, test_size=0.2, random_state=42)\n",
    "\n",
    "# Создание модели классификации\n",
    "model = Sequential()\n",
    "model.add(Dense(64, activation='relu', input_dim=X_train.shape[1]))\n",
    "model.add(Dense(64, activation='relu'))\n",
    "model.add(Dense(len(unique_classes), activation='softmax'))\n",
    "\n",
    "# Компиляция модели\n",
    "model.compile(loss='sparse_categorical_crossentropy', optimizer='adam', metrics=['accuracy'])\n",
    "\n",
    "# Обучение модели\n",
    "model.fit(X_train, y_train, epochs=10, batch_size=32, validation_data=(X_test, y_test))\n",
    "\n",
    "# Оценка точности модели на тестовой выборке\n",
    "accuracy = model.evaluate(X_test, y_test)[1]\n",
    "print(\"Accuracy:\", accuracy)\n"
   ]
  },
  {
   "cell_type": "code",
   "execution_count": 8,
   "metadata": {},
   "outputs": [
    {
     "name": "stdout",
     "output_type": "stream",
     "text": [
      "                                ID  Code\n",
      "0  DLAI5_Validation_fruits (1).jpg     6\n",
      "1  DLAI5_Validation_fruits (2).jpg     3\n",
      "2  DLAI5_Validation_fruits (3).jpg     4\n",
      "3  DLAI5_Validation_fruits (4).jpg     2\n",
      "4  DLAI5_Validation_fruits (5).jpg     6\n"
     ]
    }
   ],
   "source": [
    "print(data.head()) "
   ]
  },
  {
   "cell_type": "code",
   "execution_count": 9,
   "metadata": {},
   "outputs": [
    {
     "name": "stdout",
     "output_type": "stream",
     "text": [
      "                                    ID  Code\n",
      "133  DLAI5_Validation_fruits (134).jpg     6\n",
      "134  DLAI5_Validation_fruits (135).jpg     6\n",
      "135  DLAI5_Validation_fruits (136).jpg     2\n",
      "136  DLAI5_Validation_fruits (137).jpg     4\n",
      "137  DLAI5_Validation_fruits (138).jpg     3\n"
     ]
    }
   ],
   "source": [
    "print(data.tail()) "
   ]
  },
  {
   "cell_type": "code",
   "execution_count": 13,
   "metadata": {},
   "outputs": [
    {
     "name": "stdout",
     "output_type": "stream",
     "text": [
      "ID      138\n",
      "Code    138\n",
      "dtype: int64\n"
     ]
    }
   ],
   "source": [
    "print(data.count()) "
   ]
  },
  {
   "cell_type": "code",
   "execution_count": 29,
   "metadata": {},
   "outputs": [
    {
     "ename": "SyntaxError",
     "evalue": "EOL while scanning string literal (2482159032.py, line 50)",
     "output_type": "error",
     "traceback": [
      "\u001b[0;36m  File \u001b[0;32m\"/var/folders/lp/hw4wgq3j1hv1kb7fjbv7qwp40000gn/T/ipykernel_31973/2482159032.py\"\u001b[0;36m, line \u001b[0;32m50\u001b[0m\n\u001b[0;31m    model.compile(optimizer='adam', loss='categorical_crossentropy', metrics=['accuracy\u001b[0m\n\u001b[0m                                                                                       ^\u001b[0m\n\u001b[0;31mSyntaxError\u001b[0m\u001b[0;31m:\u001b[0m EOL while scanning string literal\n"
     ]
    }
   ],
   "source": [
    "import pandas as pd\n",
    "import numpy as np\n",
    "from keras.models import Sequential\n",
    "from keras.layers import Dense, Flatten, Conv2D, MaxPooling2D\n",
    "from keras.preprocessing.image import ImageDataGenerator\n",
    "\n",
    "# Загрузка данных из CSV файла\n",
    "data = pd.read_csv('DLAI5_fruits_sample.csv')\n",
    "\n",
    "# Загрузка изображений и их меток классов\n",
    "# Предположим, что в столбце 'image_path' содержатся пути к изображениям,\n",
    "# а в столбце 'class' содержатся метки классов\n",
    "image_paths = data['image_path'].values\n",
    "labels = data['class'].values\n",
    "\n",
    "# Создание генератора для преобразования и аугментации изображений\n",
    "image_generator = ImageDataGenerator(rescale=1./255, validation_split=0.2)\n",
    "\n",
    "# Загрузка и подготовка данных обучения\n",
    "train_data = image_generator.flow_from_directory(\n",
    "    'путь_к_папке_с_изображениями',\n",
    "    target_size=(224, 224),\n",
    "    batch_size=32,\n",
    "    class_mode='categorical',\n",
    "    subset='training'\n",
    ")\n",
    "\n",
    "# Загрузка и подготовка данных валидации\n",
    "val_data = image_generator.flow_from_directory(\n",
    "    'путь_к_папке_с_изображениями',\n",
    "    target_size=(224, 224),\n",
    "    batch_size=32,\n",
    "    class_mode='categorical',\n",
    "    subset='validation'\n",
    ")\n",
    "\n",
    "# Создание модели нейронной сети\n",
    "model = Sequential()\n",
    "model.add(Conv2D(32, (3, 3), activation='relu', input_shape=(224, 224, 3)))\n",
    "model.add(MaxPooling2D((2, 2)))\n",
    "model.add(Conv2D(64, (3, 3), activation='relu'))\n",
    "model.add(MaxPooling2D((2, 2)))\n",
    "model.add(Conv2D(128, (3, 3), activation='relu'))\n",
    "model.add(MaxPooling2D((2, 2)))\n",
    "model.add(Flatten())\n",
    "model.add(Dense(128, activation='relu'))\n",
    "model.add(Dense(num_classes, activation='softmax'))  # Замените `num_classes` на количество классов в вашем наборе данных\n",
    "\n",
    "# Компиляция модели\n",
    "model.compile(optimizer='adam', loss='categorical_crossentropy', metrics=['accuracy\n"
   ]
  }
 ],
 "metadata": {
  "kernelspec": {
   "display_name": "Python 3",
   "language": "python",
   "name": "python3"
  },
  "language_info": {
   "codemirror_mode": {
    "name": "ipython",
    "version": 3
   },
   "file_extension": ".py",
   "mimetype": "text/x-python",
   "name": "python",
   "nbconvert_exporter": "python",
   "pygments_lexer": "ipython3",
   "version": "3.9.13"
  },
  "orig_nbformat": 4
 },
 "nbformat": 4,
 "nbformat_minor": 2
}
